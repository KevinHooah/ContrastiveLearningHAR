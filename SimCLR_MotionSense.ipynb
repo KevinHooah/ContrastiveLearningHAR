{
 "metadata": {
  "language_info": {
   "codemirror_mode": {
    "name": "ipython",
    "version": 3
   },
   "file_extension": ".py",
   "mimetype": "text/x-python",
   "name": "python",
   "nbconvert_exporter": "python",
   "pygments_lexer": "ipython3",
   "version": "3.7.6-final"
  },
  "orig_nbformat": 2,
  "kernelspec": {
   "name": "Python 3.7.6 64-bit ('ml37')",
   "display_name": "Python 3.7.6 64-bit ('ml37')",
   "metadata": {
    "interpreter": {
     "hash": "369eacbd862d285c195556fd0399bd44fd39c7fe14d5ede675fff8f359efd9d4"
    }
   }
  }
 },
 "nbformat": 4,
 "nbformat_minor": 2,
 "cells": [
  {
   "cell_type": "markdown",
   "metadata": {},
   "source": [
    "# SimCLR Constrastive Training Tutorial"
   ]
  },
  {
   "cell_type": "code",
   "execution_count": 1,
   "metadata": {},
   "outputs": [],
   "source": [
    "%load_ext autoreload\n",
    "%autoreload 2"
   ]
  },
  {
   "cell_type": "markdown",
   "metadata": {},
   "source": [
    "## Imports"
   ]
  },
  {
   "cell_type": "code",
   "execution_count": 2,
   "metadata": {},
   "outputs": [],
   "source": [
    "import pickle\n",
    "import scipy\n",
    "import datetime\n",
    "import tensorflow as tf"
   ]
  },
  {
   "cell_type": "code",
   "execution_count": 3,
   "metadata": {},
   "outputs": [],
   "source": [
    "# Library scripts\n",
    "import raw_data_processing\n",
    "import data_pre_processing\n",
    "import simclr_models\n",
    "import simclr_utitlities\n",
    "import transformations"
   ]
  },
  {
   "cell_type": "code",
   "execution_count": 4,
   "metadata": {},
   "outputs": [],
   "source": [
    "working_directory = 'test_run/'\n",
    "dataset_save_path = working_directory\n"
   ]
  },
  {
   "cell_type": "markdown",
   "metadata": {},
   "source": [
    "## MotionSense Dataset\n",
    "\n",
    "In this section, the MotionSense dataset will be downloaded and parsed. The results will then be saved in a python pickle file.\n",
    "(Note: This section only needs to be run once)"
   ]
  },
  {
   "cell_type": "markdown",
   "metadata": {},
   "source": [
    "### Downloading & Unzipping"
   ]
  },
  {
   "cell_type": "code",
   "execution_count": 5,
   "metadata": {},
   "outputs": [],
   "source": [
    "import requests\n",
    "import zipfile"
   ]
  },
  {
   "cell_type": "code",
   "execution_count": 6,
   "metadata": {},
   "outputs": [],
   "source": [
    "dataset_url = 'https://github.com/mmalekzadeh/motion-sense/blob/master/data/B_Accelerometer_data.zip?raw=true'\n",
    "\n",
    "r = requests.get(dataset_url, allow_redirects=True)\n",
    "with open(working_directory + 'B_Accelerometer_data.zip', 'wb') as f:\n",
    "    f.write(r.content)"
   ]
  },
  {
   "cell_type": "code",
   "execution_count": 7,
   "metadata": {},
   "outputs": [],
   "source": [
    "\n",
    "with zipfile.ZipFile(working_directory + 'B_Accelerometer_data.zip', 'r') as zip_ref:\n",
    "    zip_ref.extractall(working_directory)"
   ]
  },
  {
   "cell_type": "markdown",
   "metadata": {},
   "source": [
    "### Data Processing"
   ]
  },
  {
   "cell_type": "code",
   "execution_count": 8,
   "metadata": {},
   "outputs": [
    {
     "output_type": "stream",
     "name": "stdout",
     "text": [
      "test_run/B_Accelerometer_data/dws_1\n",
      "test_run/B_Accelerometer_data/dws_11\n",
      "test_run/B_Accelerometer_data/dws_2\n",
      "test_run/B_Accelerometer_data/jog_16\n",
      "test_run/B_Accelerometer_data/jog_9\n",
      "test_run/B_Accelerometer_data/sit_13\n",
      "test_run/B_Accelerometer_data/sit_5\n",
      "test_run/B_Accelerometer_data/std_14\n",
      "test_run/B_Accelerometer_data/std_6\n",
      "test_run/B_Accelerometer_data/ups_12\n",
      "test_run/B_Accelerometer_data/ups_3\n",
      "test_run/B_Accelerometer_data/ups_4\n",
      "test_run/B_Accelerometer_data/wlk_15\n",
      "test_run/B_Accelerometer_data/wlk_7\n",
      "test_run/B_Accelerometer_data/wlk_8\n"
     ]
    }
   ],
   "source": [
    "accelerometer_data_folder_path = working_directory + 'B_Accelerometer_data/'\n",
    "user_datasets = raw_data_processing.process_motion_sense_accelerometer_files(accelerometer_data_folder_path)"
   ]
  },
  {
   "cell_type": "code",
   "execution_count": 9,
   "metadata": {},
   "outputs": [],
   "source": [
    "with open(working_directory + 'motion_sense_user_split.pkl', 'wb') as f:\n",
    "    pickle.dump({\n",
    "        'user_split': user_datasets,\n",
    "    }, f)"
   ]
  },
  {
   "cell_type": "markdown",
   "metadata": {},
   "source": [
    "## Pre-processing"
   ]
  },
  {
   "cell_type": "code",
   "execution_count": 10,
   "metadata": {},
   "outputs": [],
   "source": [
    "# Parameters\n",
    "window_size = 400\n",
    "input_shape = (window_size, 3)\n",
    "\n",
    "# Dataset Metadata \n",
    "transformation_multiple = 1\n",
    "dataset_name = 'motion_sense.pkl'\n",
    "dataset_name_user_split = 'motion_sense_user_split.pkl'\n",
    "\n",
    "label_list = ['null', 'sit', 'std', 'wlk', 'ups', 'dws', 'jog']\n",
    "label_list_full_name = ['null', 'sitting', 'standing', 'walking', 'walking upstairs', 'walking downstairs', 'jogging']\n",
    "has_null_class = True\n",
    "\n",
    "label_map = dict([(l, i) for i, l in enumerate(label_list)])\n",
    "\n",
    "output_shape = len(label_list)\n",
    "\n",
    "model_save_name = f\"motionsense_acc\"\n",
    "\n",
    "sampling_rate = 50.0\n",
    "unit_conversion = scipy.constants.g\n",
    "\n",
    "# a fixed user-split\n",
    "test_users_fixed = [1, 14, 19, 23, 6]\n",
    "def get_fixed_split_users(har_users):\n",
    "    # test_users = har_users[0::5]\n",
    "    test_users = test_users_fixed\n",
    "    train_users = [u for u in har_users if u not in test_users]\n",
    "    return (train_users, test_users)"
   ]
  },
  {
   "cell_type": "code",
   "execution_count": 11,
   "metadata": {},
   "outputs": [],
   "source": [
    "with open(dataset_save_path + dataset_name_user_split, 'rb') as f:\n",
    "    dataset_dict = pickle.load(f)\n",
    "    user_datasets = dataset_dict['user_split']\n"
   ]
  },
  {
   "cell_type": "code",
   "execution_count": 12,
   "metadata": {},
   "outputs": [
    {
     "output_type": "stream",
     "name": "stdout",
     "text": [
      "Testing: [1, 14, 19, 23, 6], Training: [10, 11, 12, 13, 15, 16, 17, 18, 2, 20, 21, 22, 24, 3, 4, 5, 7, 8, 9]\n"
     ]
    }
   ],
   "source": [
    "har_users = list(user_datasets.keys())\n",
    "train_users, test_users = get_fixed_split_users(har_users)\n",
    "print(f'Testing: {test_users}, Training: {train_users}')"
   ]
  },
  {
   "cell_type": "code",
   "execution_count": 13,
   "metadata": {},
   "outputs": [
    {
     "output_type": "stream",
     "name": "stdout",
     "text": [
      "Test\n(array(['dws', 'jog', 'sit', 'std', 'ups', 'wlk'], dtype='<U3'), array([112, 133, 360, 335, 148, 331]))\n(array([1, 2, 3, 4, 5, 6]), array([360, 335, 331, 148, 112, 133]))\n-----------------\nTrain\n(array(['dws', 'jog', 'sit', 'std', 'ups', 'wlk'], dtype='<U3'), array([ 449,  480, 1282, 1146,  546, 1308]))\n(array([1, 2, 3, 4, 5, 6]), array([1282, 1146, 1308,  546,  449,  480]))\n-----------------\n(4168, 400, 3)\n(1043, 400, 3)\n(1419, 400, 3)\n"
     ]
    }
   ],
   "source": [
    "np_train, np_val, np_test = data_pre_processing.pre_process_dataset_composite(\n",
    "    user_datasets=user_datasets, \n",
    "    label_map=label_map, \n",
    "    output_shape=output_shape, \n",
    "    train_users=train_users, \n",
    "    test_users=test_users, \n",
    "    window_size=window_size, \n",
    "    shift=window_size//2, \n",
    "    normalise_dataset=True, \n",
    "    verbose=1\n",
    ")\n",
    "\n"
   ]
  },
  {
   "cell_type": "markdown",
   "metadata": {},
   "source": [
    "## SimCLR Training"
   ]
  },
  {
   "cell_type": "code",
   "execution_count": 14,
   "metadata": {},
   "outputs": [],
   "source": [
    "batch_size = 512\n",
    "decay_steps = 1000\n",
    "epochs = 200\n",
    "temperature = 0.1\n",
    "trasnformation_indices = [1, 2] # Use Scaling and rotation trasnformation\n",
    "\n",
    "trasnform_funcs_vectorized = [\n",
    "    transformations.noise_transform_vectorized, \n",
    "    transformations.scaling_transform_vectorized, \n",
    "    transformations.rotation_transform_vectorized, \n",
    "    transformations.negate_transform_vectorized, \n",
    "    transformations.time_flip_transform_vectorized, \n",
    "    transformations.time_segment_permutation_transform_improved, \n",
    "    transformations.time_warp_transform_low_cost, \n",
    "    transformations.channel_shuffle_transform_vectorized\n",
    "]\n",
    "transform_funcs_names = ['noised', 'scaled', 'rotated', 'negated', 'time_flipped', 'permuted', 'time_warped', 'channel_shuffled']\n",
    "\n"
   ]
  },
  {
   "cell_type": "code",
   "execution_count": 15,
   "metadata": {},
   "outputs": [
    {
     "output_type": "stream",
     "name": "stdout",
     "text": [
      "<function scaling_transform_vectorized at 0x7f5c6e7aef80>\n",
      "<function rotation_transform_vectorized at 0x7f5c6e7b4050>\n",
      "Model: \"base_model_simclr\"\n",
      "_________________________________________________________________\n",
      "Layer (type)                 Output Shape              Param #   \n",
      "=================================================================\n",
      "input (InputLayer)           [(None, 400, 3)]          0         \n",
      "_________________________________________________________________\n",
      "conv1d (Conv1D)              (None, 377, 32)           2336      \n",
      "_________________________________________________________________\n",
      "dropout (Dropout)            (None, 377, 32)           0         \n",
      "_________________________________________________________________\n",
      "conv1d_1 (Conv1D)            (None, 362, 64)           32832     \n",
      "_________________________________________________________________\n",
      "dropout_1 (Dropout)          (None, 362, 64)           0         \n",
      "_________________________________________________________________\n",
      "conv1d_2 (Conv1D)            (None, 355, 96)           49248     \n",
      "_________________________________________________________________\n",
      "dropout_2 (Dropout)          (None, 355, 96)           0         \n",
      "_________________________________________________________________\n",
      "global_max_pooling1d (Global (None, 96)                0         \n",
      "_________________________________________________________________\n",
      "dense (Dense)                (None, 256)               24832     \n",
      "_________________________________________________________________\n",
      "activation (Activation)      (None, 256)               0         \n",
      "_________________________________________________________________\n",
      "dense_1 (Dense)              (None, 128)               32896     \n",
      "_________________________________________________________________\n",
      "activation_1 (Activation)    (None, 128)               0         \n",
      "_________________________________________________________________\n",
      "dense_2 (Dense)              (None, 50)                6450      \n",
      "=================================================================\n",
      "Total params: 148,594\n",
      "Trainable params: 148,594\n",
      "Non-trainable params: 0\n",
      "_________________________________________________________________\n",
      "WARNING:tensorflow:Layer conv1d is casting an input tensor from dtype float64 to the layer's dtype of float32, which is new behavior in TensorFlow 2.  The layer has dtype float32 because it's dtype defaults to floatx.\n",
      "\n",
      "If you intended to run this layer in float32, you can safely ignore this warning. If in doubt, this warning is likely only an issue if you are porting a TensorFlow 1.X model to TensorFlow 2.\n",
      "\n",
      "To change all layers to have dtype float64 by default, call `tf.keras.backend.set_floatx('float64')`. To change just this layer, pass dtype='float64' to the layer constructor. If you are the author of this layer, you can disable autocasting by passing autocast=False to the base Layer constructor.\n",
      "\n",
      "epoch: 1 loss: 12.620\n",
      "epoch: 2 loss: 12.245\n"
     ]
    }
   ],
   "source": [
    "start_time = datetime.datetime.now()\n",
    "start_time_str = start_time.strftime(\"%Y%m%d-%H%M%S\")\n",
    "tf.keras.backend.set_floatx('float32')\n",
    "\n",
    "lr_decayed_fn = tf.keras.experimental.CosineDecay(initial_learning_rate=0.1, decay_steps=decay_steps)\n",
    "optimizer = tf.keras.optimizers.SGD(lr_decayed_fn)\n",
    "transformation_function = simclr_utitlities.generate_combined_transform_function(trasnform_funcs_vectorized, indices=trasnformation_indices)\n",
    "\n",
    "base_model = simclr_models.create_base_model(input_shape, model_name=\"base_model\")\n",
    "simclr_model = simclr_models.attach_simclr_head(base_model)\n",
    "simclr_model.summary()\n",
    "\n",
    "trained_simclr_model, epoch_losses = simclr_utitlities.simclr_train_model(simclr_model, np_train[0], optimizer, batch_size, transformation_function, temperature=temperature, epochs=epochs, is_trasnform_function_vectorized=True, verbose=1)\n",
    "\n",
    "simclr_model_save_path = f\"{working_directory}{start_time_str}_simclr.hdf5\"\n",
    "trained_simclr_model.save(simclr_model_save_path)\n",
    "\n"
   ]
  },
  {
   "cell_type": "markdown",
   "metadata": {},
   "source": [
    "## Fine-tuning and Evaluation"
   ]
  },
  {
   "cell_type": "markdown",
   "metadata": {},
   "source": [
    "### Linear Model"
   ]
  },
  {
   "cell_type": "code",
   "execution_count": 16,
   "metadata": {},
   "outputs": [
    {
     "output_type": "stream",
     "name": "stdout",
     "text": [
      "WARNING:tensorflow:No training configuration found in save file: the model was *not* compiled. Compile it manually.\n",
      "Train on 4168 samples, validate on 1043 samples\n",
      "Epoch 1/2\n",
      "4168/4168 [==============================] - 5s 1ms/sample - loss: 1.6047 - categorical_accuracy: 0.3896 - auc: 0.7537 - precision: 0.8200 - recall: 0.1377 - val_loss: 1.4792 - val_categorical_accuracy: 0.4938 - val_auc: 0.8454 - val_precision: 0.8584 - val_recall: 0.1918\n",
      "Epoch 2/2\n",
      "4168/4168 [==============================] - 4s 1ms/sample - loss: 1.4343 - categorical_accuracy: 0.4906 - auc: 0.8360 - precision: 0.8058 - recall: 0.1931 - val_loss: 1.3892 - val_categorical_accuracy: 0.6654 - val_auc: 0.8918 - val_precision: 0.8707 - val_recall: 0.2196\n",
      "Model with lowest validation Loss:\n",
      "{'Confusion Matrix': array([[360,   0,   0,   0,   0,   0],\n",
      "       [ 98, 233,   4,   0,   0,   0],\n",
      "       [ 11,   0, 320,   0,   0,   0],\n",
      "       [ 78,   0,  70,   0,   0,   0],\n",
      "       [ 24,   0,  88,   0,   0,   0],\n",
      "       [  8,   0, 125,   0,   0,   0]]), 'F1 Macro': 0.3782497450009292, 'F1 Micro': 0.6434108527131783, 'F1 Weighted': 0.5473728720492812, 'Precision': 0.3581574207646541, 'Recall': 0.44371495994348503, 'Kappa': 0.5295256229896295}\n",
      "Model in last epoch\n",
      "{'Confusion Matrix': array([[360,   0,   0,   0,   0,   0],\n",
      "       [ 98, 233,   4,   0,   0,   0],\n",
      "       [ 11,   0, 320,   0,   0,   0],\n",
      "       [ 78,   0,  70,   0,   0,   0],\n",
      "       [ 24,   0,  88,   0,   0,   0],\n",
      "       [  8,   0, 125,   0,   0,   0]]), 'F1 Macro': 0.3782497450009292, 'F1 Micro': 0.6434108527131783, 'F1 Weighted': 0.5473728720492812, 'Precision': 0.3581574207646541, 'Recall': 0.44371495994348503, 'Kappa': 0.5295256229896295}\n"
     ]
    }
   ],
   "source": [
    "\n",
    "total_epochs = 50\n",
    "batch_size = 200\n",
    "tag = \"linear_eval\"\n",
    "\n",
    "simclr_model = tf.keras.models.load_model(simclr_model_save_path)\n",
    "linear_evaluation_model = simclr_models.create_linear_model_from_base_model(simclr_model, output_shape, intermediate_layer=7)\n",
    "\n",
    "best_model_file_name = f\"{working_directory}{start_time_str}_simclr_{tag}.hdf5\"\n",
    "best_model_callback = tf.keras.callbacks.ModelCheckpoint(best_model_file_name,\n",
    "    monitor='val_loss', mode='min', save_best_only=True, save_weights_only=False, verbose=0\n",
    ")\n",
    "\n",
    "training_history = linear_evaluation_model.fit(\n",
    "    x = np_train[0],\n",
    "    y = np_train[1],\n",
    "    batch_size=batch_size,\n",
    "    shuffle=True,\n",
    "    epochs=total_epochs,\n",
    "    callbacks=[best_model_callback],\n",
    "    validation_data=np_val\n",
    ")\n",
    "\n",
    "best_model = tf.keras.models.load_model(best_model_file_name)\n",
    "\n",
    "print(\"Model with lowest validation Loss:\")\n",
    "print(simclr_utitlities.evaluate_model_simple(best_model.predict(np_test[0]), np_test[1], return_dict=True))\n",
    "print(\"Model in last epoch\")\n",
    "print(simclr_utitlities.evaluate_model_simple(linear_evaluation_model.predict(np_test[0]), np_test[1], return_dict=True))\n"
   ]
  },
  {
   "cell_type": "markdown",
   "metadata": {},
   "source": [
    "### Full HAR Model"
   ]
  },
  {
   "cell_type": "code",
   "execution_count": 17,
   "metadata": {},
   "outputs": [
    {
     "output_type": "stream",
     "name": "stdout",
     "text": [
      "WARNING:tensorflow:No training configuration found in save file: the model was *not* compiled. Compile it manually.\n",
      "Train on 4168 samples, validate on 1043 samples\n",
      "Epoch 1/2\n",
      "4168/4168 [==============================] - 8s 2ms/sample - loss: 1.3079 - categorical_accuracy: 0.5943 - auc: 0.8606 - precision: 0.8251 - recall: 0.2932 - val_loss: 1.0597 - val_categorical_accuracy: 0.7718 - val_auc: 0.9505 - val_precision: 0.9233 - val_recall: 0.3461\n",
      "Epoch 2/2\n",
      "4168/4168 [==============================] - 7s 2ms/sample - loss: 0.7282 - categorical_accuracy: 0.7968 - auc: 0.9713 - precision: 0.9381 - recall: 0.6072 - val_loss: 0.7301 - val_categorical_accuracy: 0.8198 - val_auc: 0.9620 - val_precision: 0.9211 - val_recall: 0.7383\n",
      "Model with lowest validation Loss:\n",
      "{'Confusion Matrix': array([[333,  27,   0,   0,   0,   0],\n",
      "       [  0, 335,   0,   0,   0,   0],\n",
      "       [  1,  75, 247,   8,   0,   0],\n",
      "       [ 15,  66,  19,  47,   1,   0],\n",
      "       [ 17,   9,  66,   4,  14,   2],\n",
      "       [  6,   1,   5,   0,   0, 121]]), 'F1 Macro': 0.6765570974030605, 'F1 Micro': 0.77307963354475, 'F1 Weighted': 0.7432214445809138, 'Precision': 0.8324672930834801, 'Recall': 0.6705942614354127, 'Kappa': 0.7088707765943619}\n",
      "Model in last epoch\n",
      "{'Confusion Matrix': array([[333,  27,   0,   0,   0,   0],\n",
      "       [  0, 335,   0,   0,   0,   0],\n",
      "       [  1,  75, 247,   8,   0,   0],\n",
      "       [ 15,  66,  19,  47,   1,   0],\n",
      "       [ 17,   9,  66,   4,  14,   2],\n",
      "       [  6,   1,   5,   0,   0, 121]]), 'F1 Macro': 0.6765570974030605, 'F1 Micro': 0.77307963354475, 'F1 Weighted': 0.7432214445809138, 'Precision': 0.8324672930834801, 'Recall': 0.6705942614354127, 'Kappa': 0.7088707765943619}\n"
     ]
    }
   ],
   "source": [
    "\n",
    "total_epochs = 50\n",
    "batch_size = 200\n",
    "tag = \"full_eval\"\n",
    "\n",
    "simclr_model = tf.keras.models.load_model(simclr_model_save_path)\n",
    "full_evaluation_model = simclr_models.create_full_classification_model_from_base_model(simclr_model, output_shape, model_name=\"TPN\", intermediate_layer=7, last_freeze_layer=4)\n",
    "\n",
    "best_model_file_name = f\"{working_directory}{start_time_str}_simclr_{tag}.hdf5\"\n",
    "best_model_callback = tf.keras.callbacks.ModelCheckpoint(best_model_file_name,\n",
    "    monitor='val_loss', mode='min', save_best_only=True, save_weights_only=False, verbose=0\n",
    ")\n",
    "\n",
    "training_history = full_evaluation_model.fit(\n",
    "    x = np_train[0],\n",
    "    y = np_train[1],\n",
    "    batch_size=batch_size,\n",
    "    shuffle=True,\n",
    "    epochs=total_epochs,\n",
    "    callbacks=[best_model_callback],\n",
    "    validation_data=np_val\n",
    ")\n",
    "\n",
    "best_model = tf.keras.models.load_model(best_model_file_name)\n",
    "\n",
    "print(\"Model with lowest validation Loss:\")\n",
    "print(simclr_utitlities.evaluate_model_simple(best_model.predict(np_test[0]), np_test[1], return_dict=True))\n",
    "print(\"Model in last epoch\")\n",
    "print(simclr_utitlities.evaluate_model_simple(full_evaluation_model.predict(np_test[0]), np_test[1], return_dict=True))\n"
   ]
  },
  {
   "cell_type": "code",
   "execution_count": null,
   "metadata": {},
   "outputs": [],
   "source": []
  }
 ]
}